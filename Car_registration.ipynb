{
 "cells": [
  {
   "cell_type": "code",
   "execution_count": null,
   "metadata": {},
   "outputs": [],
   "source": [
    "# Importing Libraries\n",
    "import pandas as pd\n",
    "import matplotlib.pyplot as plt \n",
    "from sqlalchemy import create_engine\n",
    "from sqlalchemy.engine import URL \n",
    "import os\n",
    "#from dotenv import load_dotenv"
   ]
  },
  {
   "cell_type": "code",
   "execution_count": null,
   "metadata": {},
   "outputs": [],
   "source": [
    "#connection to postgresql database\n",
    "load_dotenv('database.env')\n",
    "DATABASE_URL = os.getenv('DATABASE_URL')\n",
    "engine = create_engine(DATABASE_URL)"
   ]
  },
  {
   "cell_type": "code",
   "execution_count": 3,
   "metadata": {},
   "outputs": [],
   "source": [
    "# Loading Data\n",
    "query = \"SELECT * FROM rok25\"\n",
    "df = pd.read_sql(query, engine)\n"
   ]
  },
  {
   "cell_type": "code",
   "execution_count": 5,
   "metadata": {},
   "outputs": [
    {
     "name": "stdout",
     "output_type": "stream",
     "text": [
      "    wojewodztwo         marka  liczba miesiac\n",
      "0       ŁÓDZKIE         DACIA      96       1\n",
      "1  DOLNOŚLĄSKIE    ALFA ROMEO      53       1\n",
      "2  DOLNOŚLĄSKIE        ALPINE       1       1\n",
      "3  DOLNOŚLĄSKIE  ASTON MARTIN       2       1\n",
      "4  DOLNOŚLĄSKIE          AUDI     646       1\n"
     ]
    }
   ],
   "source": [
    "print(df.head(5))"
   ]
  },
  {
   "cell_type": "code",
   "execution_count": null,
   "metadata": {},
   "outputs": [],
   "source": []
  }
 ],
 "metadata": {
  "kernelspec": {
   "display_name": "python_course",
   "language": "python",
   "name": "python3"
  },
  "language_info": {
   "codemirror_mode": {
    "name": "ipython",
    "version": 3
   },
   "file_extension": ".py",
   "mimetype": "text/x-python",
   "name": "python",
   "nbconvert_exporter": "python",
   "pygments_lexer": "ipython3",
   "version": "3.11.10"
  }
 },
 "nbformat": 4,
 "nbformat_minor": 2
}
